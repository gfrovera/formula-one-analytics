{
 "cells": [
  {
   "cell_type": "code",
   "execution_count": 20,
   "metadata": {},
   "outputs": [],
   "source": [
    "from time import sleep\n",
    "import logging\n",
    "import fastf1\n",
    "import pandas as pd\n",
    "\n",
    "logging.basicConfig(\n",
    "    encoding='utf-8',\n",
    "    level=logging.DEBUG,\n",
    "    datefmt='%m/%d/%Y %I:%M:%S %p'\n",
    ")"
   ]
  },
  {
   "cell_type": "code",
   "execution_count": 25,
   "metadata": {},
   "outputs": [],
   "source": [
    "   \n",
    "# Defining function to event calendar and save to parquet for later\n",
    "def get_event_calendar(start_year: int, end_year: int, iteration_sleep: int=10) -> list:\n",
    "    '''\n",
    "    Sources a list of dataframes with Formula 1 Event Calendar schedule information fro\n",
    "    the fastF1 API package and API.\n",
    "\n",
    "    :param start_year: (int) Beginning year of range to pull event calendar schedules for\n",
    "    :param end_year: (int) End year of range to pull event calendar schedules for\n",
    "    :iteration_sleep: (int, default=10) Adjustable sleep interval to keep fastF1 api from\n",
    "    blocking requests for data. fastF1 has protection built in, this allows for further \n",
    "    request safety.\n",
    "    '''\n",
    "    totalEventList = []\n",
    "    for idx, year in enumerate(list(range(start_year, end_year+1))):\n",
    "        totalEventList.append(fastf1.get_event_schedule(year))\n",
    "        logging.info(f'Requesting the {year=} event schedule')\n",
    "        sleep(iteration_sleep) # to throttle requests beyond built in fastF1 throttling\n",
    "\n",
    "    return totalEventList\n",
    "\n",
    "\n",
    "def concat_event_calendar(event_list: list) -> pd.DataFrame:\n",
    "    '''\n",
    "    Concats data from list of dataframes into a single dataframe\n",
    "\n",
    "    :param event_list: (list) list of dataframes to concat into single dataframe\n",
    "    :return: pandas Dataframe\n",
    "\n",
    "    '''\n",
    "\n",
    "    df = pd.concat(event_list)\n",
    "    return df\n",
    "\n",
    "\n",
    "def create_date_part_col(df: pd.DataFrame, date_column: str, date_part:str) -> pd.DataFrame:\n",
    "    '''\n",
    "    Creates a new column in supplied pd.DataFrame that is the specified DatetimeIndex part \n",
    "    of the given date_column.\n",
    "\n",
    "    :param df: (pd.DataFrame) pandas DataFrame containing a date or datetime column\n",
    "    :param date_column: (str) The name of the column with dates to extract the date_part from\n",
    "    :param date_part: (str) The part of the date to extract ('year', 'month','day')\n",
    "\n",
    "    :return: pandas DataFrame with the extracted date part in a new column.\n",
    "\n",
    "    ::Example::\n",
    "    -----------\n",
    "\n",
    "    data = [{'eventDate': '2000-03-12', 'event': 'Woodstock'}, \n",
    "            {'eventDate': '2003-08-12', 'event': 'EdgeFest'}, \n",
    "            {'eventDate': '2009-03-12', 'event': 'Warped Tour'}, \n",
    "            {'eventDate': '2020-01-26', 'event': 'Electric Forest'}\n",
    "       ]\n",
    "    \n",
    "    df = pd.DataFrame(data)\n",
    "    df['eventDate'] = pd.to_datetime(df['eventDate'])\n",
    "\n",
    "    |  eventDate  |    event           |\n",
    "    | 2000-03-12  | 'Woodstock'        |\n",
    "    | 2003-08-12  | 'EdgeFest'         |\n",
    "    | 2009-03-12  | 'Warped Tour'      |\n",
    "    | 2020-01-26  | 'Electric Forest'  |\n",
    "\n",
    "    df = create_date_part_col(df=df, date_column='eventDate', date_part='year')\n",
    "\n",
    "    |  eventDate  |    event           | eventDate_year |\n",
    "    | 2000-03-12  | 'Woodstock'        |      2000      |\n",
    "    | 2003-08-12  | 'EdgeFest'         |      2003      |\n",
    "    | 2009-03-12  | 'Warped Tour'      |      2009      |\n",
    "    | 2020-01-26  | 'Electric Forest'  |      2020      |\n",
    "\n",
    "\n",
    "    '''\n",
    "\n",
    "    valid_date_parts = {'day', 'month', 'year'}\n",
    "    if date_part not in valid_date_parts:\n",
    "        raise ValueError(f'Given date_part must be a valid date part of {valid_date_parts}')\n",
    "\n",
    "    df['_'.join([date_column, date_part.lower()])] = (\n",
    "        getattr(pd.DatetimeIndex(df[date_column]), date_part)\n",
    "        )\n",
    "    \n",
    "    return df\n"
   ]
  },
  {
   "cell_type": "code",
   "execution_count": null,
   "metadata": {},
   "outputs": [],
   "source": [
    "# Pulling down Formula Event Calendars from 2000 to 2023 seasons.\n",
    "my_event_list = get_event_calendar(2000, 2023)\n",
    "eventDF = concat_event_calendar(my_event_list)\n",
    "\n",
    "# Adding new date part columns for parquet partitioning optimization\n",
    "eventDF = create_date_part_col(eventDF, 'EventDate', 'year')\n",
    "eventDF = create_date_part_col(eventDF, 'EventDate', 'month')"
   ]
  },
  {
   "cell_type": "code",
   "execution_count": 39,
   "metadata": {},
   "outputs": [],
   "source": [
    "# Saving data to parquet file for easier access later.\n",
    "eventDF.to_parquet('/workspaces/formula-one-analytics/data/eventCalendar.parquet',\n",
    "                   partition_cols=['EventDate_year', 'EventDate_month'])"
   ]
  },
  {
   "cell_type": "code",
   "execution_count": 2,
   "metadata": {},
   "outputs": [
    {
     "name": "stderr",
     "output_type": "stream",
     "text": [
      "req         WARNING \t\n",
      "\n",
      "DEFAULT CACHE ENABLED!\n",
      "\tCache directory: /root/.cache/fastf1.\n",
      "\tSize: 24.0 KB\n"
     ]
    }
   ],
   "source": [
    "tst_session = fastf1.get_session(2023, 'Las Vegas', 'Q')\n",
    "tst_session.load()"
   ]
  }
 ],
 "metadata": {
  "kernelspec": {
   "display_name": "venv",
   "language": "python",
   "name": "python3"
  },
  "language_info": {
   "codemirror_mode": {
    "name": "ipython",
    "version": 3
   },
   "file_extension": ".py",
   "mimetype": "text/x-python",
   "name": "python",
   "nbconvert_exporter": "python",
   "pygments_lexer": "ipython3",
   "version": "3.11.7"
  }
 },
 "nbformat": 4,
 "nbformat_minor": 2
}
